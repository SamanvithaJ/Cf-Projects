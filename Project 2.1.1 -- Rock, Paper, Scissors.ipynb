{
 "cells": [
  {
   "cell_type": "code",
   "execution_count": null,
   "id": "06a873aa",
   "metadata": {},
   "outputs": [],
   "source": [
    "# Rock, Paper,Scissors"
   ]
  },
  {
   "cell_type": "markdown",
   "id": "e4812d00",
   "metadata": {},
   "source": [
    "# Rock  Paper Scissors"
   ]
  },
  {
   "cell_type": "code",
   "execution_count": 3,
   "id": "514e92ae",
   "metadata": {
    "scrolled": true
   },
   "outputs": [
    {
     "name": "stdout",
     "output_type": "stream",
     "text": [
      "What did Player 1 show: rock\n",
      "What did Player 2 show: scissors\n"
     ]
    }
   ],
   "source": [
    "p1=str(input(\"What did Player 1 show: \")) #Enter in terms of rock, paper or scissors only\n",
    "p2=str(input(\"What did Player 2 show: \")) #Enter in terms of rock, paper or scissors only"
   ]
  },
  {
   "cell_type": "code",
   "execution_count": 4,
   "id": "68a9205a",
   "metadata": {},
   "outputs": [
    {
     "name": "stdout",
     "output_type": "stream",
     "text": [
      "Player1 is the winner!\n"
     ]
    }
   ],
   "source": [
    "if(p1==p2):\n",
    "    print(\"It's a tie. Play again!\")\n",
    "elif(p1==\"rock\") and (p2==\"paper\"):\n",
    "    print(\"Player2 is the winner!\")\n",
    "elif(p1==\"paper\") and (p2==\"scissors\"): \n",
    "    print(\"Player2 is the winner!\")\n",
    "elif(p1==\"scissors\") and (p2==\"rock\"): \n",
    "    print(\"Player2 is the winner!\")\n",
    "else:\n",
    "     print(\"Player1 is the winner!\")\n"
   ]
  },
  {
   "cell_type": "code",
   "execution_count": null,
   "id": "5899c6d1",
   "metadata": {},
   "outputs": [],
   "source": []
  },
  {
   "cell_type": "code",
   "execution_count": null,
   "id": "06d12ccf",
   "metadata": {},
   "outputs": [],
   "source": []
  },
  {
   "cell_type": "code",
   "execution_count": null,
   "id": "1f8f3cef",
   "metadata": {},
   "outputs": [],
   "source": []
  },
  {
   "cell_type": "code",
   "execution_count": null,
   "id": "fc5f6613",
   "metadata": {},
   "outputs": [],
   "source": []
  },
  {
   "cell_type": "code",
   "execution_count": null,
   "id": "0e7916d3",
   "metadata": {},
   "outputs": [],
   "source": []
  },
  {
   "cell_type": "code",
   "execution_count": null,
   "id": "08ae1e8a",
   "metadata": {},
   "outputs": [],
   "source": []
  },
  {
   "cell_type": "code",
   "execution_count": null,
   "id": "5d7bcef4",
   "metadata": {},
   "outputs": [],
   "source": []
  },
  {
   "cell_type": "code",
   "execution_count": null,
   "id": "e3785a52",
   "metadata": {},
   "outputs": [],
   "source": []
  },
  {
   "cell_type": "code",
   "execution_count": null,
   "id": "b831a813",
   "metadata": {},
   "outputs": [],
   "source": []
  },
  {
   "cell_type": "code",
   "execution_count": null,
   "id": "983586a6",
   "metadata": {},
   "outputs": [],
   "source": []
  },
  {
   "cell_type": "code",
   "execution_count": null,
   "id": "8815b26c",
   "metadata": {},
   "outputs": [],
   "source": []
  },
  {
   "cell_type": "code",
   "execution_count": null,
   "id": "65072f38",
   "metadata": {},
   "outputs": [],
   "source": []
  }
 ],
 "metadata": {
  "kernelspec": {
   "display_name": "Python 3",
   "language": "python",
   "name": "python3"
  },
  "language_info": {
   "codemirror_mode": {
    "name": "ipython",
    "version": 3
   },
   "file_extension": ".py",
   "mimetype": "text/x-python",
   "name": "python",
   "nbconvert_exporter": "python",
   "pygments_lexer": "ipython3",
   "version": "3.8.8"
  }
 },
 "nbformat": 4,
 "nbformat_minor": 5
}
