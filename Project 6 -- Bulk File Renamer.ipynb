{
 "cells": [
  {
   "cell_type": "code",
   "execution_count": 1,
   "id": "8dd33ff1",
   "metadata": {},
   "outputs": [],
   "source": [
    "#program to rename all(or in bulk) files in a folder altogether and and convert them to single format"
   ]
  },
  {
   "cell_type": "code",
   "execution_count": 3,
   "id": "89b30b2c",
   "metadata": {
    "scrolled": true
   },
   "outputs": [],
   "source": [
    "import os     #Already present in python, so no need to install it, just import it\n",
    "\n",
    "def renamer():\n",
    "    i=1                                                       # FOR SECURITY REASONS, I DIDN'T MENTION THE PATH HERE, TRY CHECKING IT IN YOUR PC\n",
    "    path= \"   \"   #Copy the path of the folder in your PC and paste it and give 2 backslashes wherver 1 backslash is present and also at the end as 1st one to initiate a character(like \\n or \\t) and 2nd one to employ a character \n",
    "    for filename in os.listdir(path):     #listdir tells the for-loop where to look for our path\n",
    "        names=f\"pic{i}.jpg\"            #We want to name the images as pic1,pic2,.... and all converted to .jpg format  # \"f\" for formatting\n",
    "        src= path + filename         # This would ideally be the path of each file in the folder\n",
    "        des= path + names            # Since we want to save them in the same folder\n",
    "        os.rename(src,des)               #(source,destination)\n",
    "        i=i+1\n",
    "\n",
    "if __name__== \"__main__\":   #We use this whenever we want our program to run temporarily, like here, we want the files to be renamed only once, and if you change the path, you can rename the files in that new path again using same code\n",
    "    renamer()"
   ]
  },
  {
   "cell_type": "code",
   "execution_count": null,
   "id": "da88e158",
   "metadata": {},
   "outputs": [],
   "source": []
  }
 ],
 "metadata": {
  "kernelspec": {
   "display_name": "Python 3",
   "language": "python",
   "name": "python3"
  },
  "language_info": {
   "codemirror_mode": {
    "name": "ipython",
    "version": 3
   },
   "file_extension": ".py",
   "mimetype": "text/x-python",
   "name": "python",
   "nbconvert_exporter": "python",
   "pygments_lexer": "ipython3",
   "version": "3.8.8"
  }
 },
 "nbformat": 4,
 "nbformat_minor": 5
}
