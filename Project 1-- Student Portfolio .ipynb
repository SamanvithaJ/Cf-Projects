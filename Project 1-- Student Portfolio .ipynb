{
 "cells": [
  {
   "cell_type": "code",
   "execution_count": 1,
   "id": "e9b416cd",
   "metadata": {},
   "outputs": [],
   "source": [
    "# Program to display marks sheet of a student"
   ]
  },
  {
   "cell_type": "code",
   "execution_count": 2,
   "id": "fa056b35",
   "metadata": {},
   "outputs": [
    {
     "name": "stdout",
     "output_type": "stream",
     "text": [
      "Enter the name of the student: Tanya\n",
      "Enter the class and division of the student: 7 B\n",
      "Enter the Roll No. of the student: 23\n",
      "Enter the marks obtained in Mathematics: 96\n",
      "Enter the marks obtained in Science: 95\n",
      "Enter the marks obtained in English: 94\n"
     ]
    }
   ],
   "source": [
    "name = str(input(\"Enter the name of the student: \")) \n",
    "Class = input(\"Enter the class and division of the student: \") \n",
    "rollNo = int(input(\"Enter the Roll No. of the student: \")) \n",
    "subject1 = int(input(\"Enter the marks obtained in Mathematics: \"))\n",
    "subject2 = int(input(\"Enter the marks obtained in Science: \"))\n",
    "subject3 = int(input(\"Enter the marks obtained in English: \"))\n",
    "totalScore = subject1+subject2+subject3 \n",
    "maximumMarks = 300\n",
    "percentage = float((totalScore/maximumMarks)*100) "
   ]
  },
  {
   "cell_type": "markdown",
   "id": "6f0b063e",
   "metadata": {},
   "source": [
    "# Student's Marks Sheet"
   ]
  },
  {
   "cell_type": "code",
   "execution_count": 4,
   "id": "06c479e2",
   "metadata": {},
   "outputs": [
    {
     "name": "stdout",
     "output_type": "stream",
     "text": [
      "Student's Details:\n",
      "\n",
      "Name of the student:  Tanya\n",
      "Class and division:  7 B\n",
      "Roll No.:  23\n",
      "\n",
      "\n",
      "Student's Marks:\n",
      "\n",
      "Marks obtained in Mathematics:  96\n",
      "Marks obtained in Science:  95\n",
      "Marks obtained in English:  94\n",
      "Total Score:  285\n",
      "Percentage:  95.0\n",
      "\n",
      "\n",
      "Remarks:\n",
      "\n",
      "Passed!\n"
     ]
    }
   ],
   "source": [
    "print(\"Student's Details:\\n\")\n",
    "print(\"Name of the student: \",name)\n",
    "print(\"Class and division: \",Class)\n",
    "print(\"Roll No.: \",rollNo)\n",
    "print(\"\\n\")\n",
    "print(\"Student's Marks:\\n\")\n",
    "print(\"Marks obtained in Mathematics: \",subject1)\n",
    "print(\"Marks obtained in Science: \",subject2)\n",
    "print(\"Marks obtained in English: \",subject3)\n",
    "print(\"Total Score: \",totalScore)\n",
    "print(\"Percentage: \",percentage)\n",
    "print(\"\\n\")\n",
    "print(\"Remarks:\\n\")\n",
    "print(\"Passed!\")"
   ]
  },
  {
   "cell_type": "code",
   "execution_count": null,
   "id": "418f024c",
   "metadata": {},
   "outputs": [],
   "source": []
  }
 ],
 "metadata": {
  "kernelspec": {
   "display_name": "Python 3",
   "language": "python",
   "name": "python3"
  },
  "language_info": {
   "codemirror_mode": {
    "name": "ipython",
    "version": 3
   },
   "file_extension": ".py",
   "mimetype": "text/x-python",
   "name": "python",
   "nbconvert_exporter": "python",
   "pygments_lexer": "ipython3",
   "version": "3.8.8"
  }
 },
 "nbformat": 4,
 "nbformat_minor": 5
}
