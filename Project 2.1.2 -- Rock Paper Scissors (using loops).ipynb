{
 "cells": [
  {
   "cell_type": "code",
   "execution_count": 1,
   "id": "d46d78a4",
   "metadata": {},
   "outputs": [],
   "source": [
    "#Rock, Paper, Scissors (using loops and we play it for 3 times to decide the winner)"
   ]
  },
  {
   "cell_type": "code",
   "execution_count": 4,
   "id": "abf4aa6a",
   "metadata": {},
   "outputs": [
    {
     "name": "stdout",
     "output_type": "stream",
     "text": [
      "What did Player 1 show: rock\n",
      "What did Player 2 show: rock\n",
      "It's a tie. Play again!\n",
      "What did Player 1 show: rock\n",
      "What did Player 2 show: scissors\n",
      "Player1 won!\n",
      "What did Player 1 show: rock\n",
      "What did Player 2 show: paper\n",
      "Player2 won!\n",
      "Scores are equal.Both are winners!\n"
     ]
    }
   ],
   "source": [
    "i=0\n",
    "s1=0 #score of player1\n",
    "s2=0 #score of player2\n",
    "while (i<3):\n",
    "    p1=str(input(\"What did Player 1 show: \")) #Enter in terms of rock, paper or scissors only\n",
    "    p2=str(input(\"What did Player 2 show: \")) #Enter in terms of rock, paper or scissors only\n",
    "    if(p1==p2):\n",
    "        print(\"It's a tie. Play again!\")\n",
    "    elif(p1==\"rock\") and (p2==\"paper\"):\n",
    "        print(\"Player2 won!\")\n",
    "        s2=s2+1\n",
    "    elif(p1==\"paper\") and (p2==\"scissors\"): \n",
    "        print(\"Player2 won!\")\n",
    "        s2=s2+1\n",
    "    elif(p1==\"scissors\") and (p2==\"rock\"): \n",
    "        print(\"Player2 won!\")\n",
    "        s2=s2+1\n",
    "    else:\n",
    "        print(\"Player1 won!\")\n",
    "        s1=s1+1   \n",
    "    i=i+1\n",
    "\n",
    "\n",
    "if(s1>s2):\n",
    "    print(\"Player1 is the ultimate winner!\")\n",
    "elif(s1<s2):\n",
    "    print(\"Player2 is the ultimate winner!\")\n",
    "else:\n",
    "    print(\"Scores are equal.Both are winners!\")\n"
   ]
  },
  {
   "cell_type": "code",
   "execution_count": null,
   "id": "6afbbf22",
   "metadata": {},
   "outputs": [],
   "source": []
  }
 ],
 "metadata": {
  "kernelspec": {
   "display_name": "Python 3",
   "language": "python",
   "name": "python3"
  },
  "language_info": {
   "codemirror_mode": {
    "name": "ipython",
    "version": 3
   },
   "file_extension": ".py",
   "mimetype": "text/x-python",
   "name": "python",
   "nbconvert_exporter": "python",
   "pygments_lexer": "ipython3",
   "version": "3.8.8"
  }
 },
 "nbformat": 4,
 "nbformat_minor": 5
}
