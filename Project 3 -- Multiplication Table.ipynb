{
 "cells": [
  {
   "cell_type": "code",
   "execution_count": 1,
   "id": "ca5a7f35",
   "metadata": {},
   "outputs": [],
   "source": [
    "# Printing multiplication table"
   ]
  },
  {
   "cell_type": "code",
   "execution_count": 2,
   "id": "b6663840",
   "metadata": {},
   "outputs": [
    {
     "name": "stdout",
     "output_type": "stream",
     "text": [
      "Enter the number: 7\n",
      "\n",
      "\n",
      "7 TABLE:\n",
      "7 x 1 = 7 \n",
      "7 x 2 = 14 \n",
      "7 x 3 = 21 \n",
      "7 x 4 = 28 \n",
      "7 x 5 = 35 \n",
      "7 x 6 = 42 \n",
      "7 x 7 = 49 \n",
      "7 x 8 = 56 \n",
      "7 x 9 = 63 \n",
      "7 x 10 = 70 \n",
      "7 x 11 = 77 \n",
      "7 x 12 = 84 \n"
     ]
    }
   ],
   "source": [
    "n=int(input(\"Enter the number: \"))\n",
    "print(\"\\n\")\n",
    "print(\"{number} TABLE:\".format(number=n))\n",
    "i=1\n",
    "while(i<=12):\n",
    "    print(\"{number} x {i} = {output} \".format(number=n,i=i,output=n*i))\n",
    "    i=i+1\n"
   ]
  }
 ],
 "metadata": {
  "kernelspec": {
   "display_name": "Python 3",
   "language": "python",
   "name": "python3"
  },
  "language_info": {
   "codemirror_mode": {
    "name": "ipython",
    "version": 3
   },
   "file_extension": ".py",
   "mimetype": "text/x-python",
   "name": "python",
   "nbconvert_exporter": "python",
   "pygments_lexer": "ipython3",
   "version": "3.8.8"
  }
 },
 "nbformat": 4,
 "nbformat_minor": 5
}
