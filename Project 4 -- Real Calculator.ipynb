{
 "cells": [
  {
   "cell_type": "markdown",
   "id": "191d22b4",
   "metadata": {},
   "source": [
    "#### REAL CALCULATOR"
   ]
  },
  {
   "cell_type": "code",
   "execution_count": 8,
   "id": "0dd8803d",
   "metadata": {},
   "outputs": [],
   "source": [
    "def add(a,b):\n",
    "    \"\"\" Function to add 2 numbers\"\"\"   #defining docstring of the add function\n",
    "    \n",
    "    Sum=a+b\n",
    "    return Sum\n",
    "\n",
    "\n",
    "\n",
    "def subtract(a,b):\n",
    "    \"\"\" Function to subtract 2 numbers\"\"\" #defining docstring of the subtract function\n",
    "    \n",
    "    difference=a-b\n",
    "    return difference\n",
    "\n",
    "\n",
    "\n",
    "def multiply(a,b):\n",
    "    \"\"\" Function to multiply 2 numbers\"\"\"   #defining docstring of the multiply function\n",
    "    \n",
    "    product=a*b\n",
    "    return product\n",
    "\n",
    "\n",
    "\n",
    "def divide(a,b):\n",
    "    \"\"\" Function to add 2 numbers\"\"\"  #defining docstring of the divide function\n",
    "     \n",
    "    quotient=a/b\n",
    "    return quotient"
   ]
  },
  {
   "cell_type": "code",
   "execution_count": 9,
   "id": "2d4b32f7",
   "metadata": {},
   "outputs": [
    {
     "name": "stdout",
     "output_type": "stream",
     "text": [
      "45 + 54\n",
      "\n",
      "\n",
      "45.0 + 54.0 = 99.0\n"
     ]
    }
   ],
   "source": [
    "num1,operator,num2 = map(str,input().split())    # Give spaces between them. Ex.: 33 * 2\n",
    "\n",
    "num1=float(num1)    \n",
    "num2=float(num2)\n",
    "\n",
    "print(\"\\n\")\n",
    "\n",
    "if (operator==\"+\"):\n",
    "    print(\"{Number1} + {Number2} = {output}\".format(Number1=num1,Number2=num2,output=add(num1,num2)))\n",
    "    \n",
    "elif (operator==\"-\"):\n",
    "    print(\"{Number1} - {Number2} = {output}\".format(Number1=num1,Number2=num2,output=subtract(num1,num2)))\n",
    "    \n",
    "elif (operator==\"*\"):\n",
    "    print(\"{Number1} * {Number2} = {output}\".format(Number1=num1,Number2=num2,output=multiply(num1,num2)))\n",
    "    \n",
    "elif (operator==\"/\"):\n",
    "    print(\"{Number1} / {Number2} = {output}\".format(Number1=num1,Number2=num2,output=divide(num1,num2)))\n",
    "    \n",
    "else:\n",
    "    print(\"Invalid input!\")"
   ]
  }
 ],
 "metadata": {
  "kernelspec": {
   "display_name": "Python 3",
   "language": "python",
   "name": "python3"
  },
  "language_info": {
   "codemirror_mode": {
    "name": "ipython",
    "version": 3
   },
   "file_extension": ".py",
   "mimetype": "text/x-python",
   "name": "python",
   "nbconvert_exporter": "python",
   "pygments_lexer": "ipython3",
   "version": "3.8.8"
  }
 },
 "nbformat": 4,
 "nbformat_minor": 5
}
