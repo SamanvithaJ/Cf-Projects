{
 "cells": [
  {
   "cell_type": "markdown",
   "id": "191d22b4",
   "metadata": {},
   "source": [
    "#### REAL CALCULATOR"
   ]
  },
  {
   "cell_type": "code",
   "execution_count": 2,
   "id": "0dd8803d",
   "metadata": {},
   "outputs": [],
   "source": [
    "def add(a,b):\n",
    "    \"\"\" Function to add 2 numbers\"\"\"   #defining docstring of the add function\n",
    "    \n",
    "    Sum=a+b\n",
    "    return Sum\n",
    "\n",
    "\n",
    "\n",
    "def subtract(a,b):\n",
    "    \"\"\" Function to subtract 2 numbers\"\"\" #defining docstring of the subtract function\n",
    "    \n",
    "    difference=a-b\n",
    "    return difference\n",
    "\n",
    "\n",
    "\n",
    "def multiply(a,b):\n",
    "    \"\"\" Function to multiply 2 numbers\"\"\"   #defining docstring of the multiply function\n",
    "    \n",
    "    product=a*b\n",
    "    return product\n",
    "\n",
    "\n",
    "\n",
    "def divide(a,b):\n",
    "    \"\"\" Function to add 2 numbers\"\"\"  #defining docstring of the divide function\n",
    "     \n",
    "    quotient=a/b\n",
    "    return quotient"
   ]
  },
  {
   "cell_type": "code",
   "execution_count": 5,
   "id": "2d4b32f7",
   "metadata": {},
   "outputs": [
    {
     "name": "stdout",
     "output_type": "stream",
     "text": [
      "Enter an action: subtraction\n",
      "Enter Number1: 76\n",
      "Enter Number2: 44\n",
      "\n",
      "\n",
      "76.0 - 44.0 = 32.0\n"
     ]
    }
   ],
   "source": [
    "action=[\"addition\", \"subtraction\",\"multiplication\",\"division\"] #Select any one action\n",
    "\n",
    "operator=str(input(\"Enter an action: \"))\n",
    "\n",
    "print(\"\\n\")\n",
    "\n",
    "num1=float(input(\"Enter Number1: \"))    \n",
    "num2=float(input(\"Enter Number2: \"))\n",
    "\n",
    "print(\"\\n\")\n",
    "\n",
    "if (operator==\"addition\"):\n",
    "    print(\"{Number1} + {Number2} = {output}\".format(Number1=num1,Number2=num2,output=add(num1,num2)))\n",
    "    \n",
    "elif (operator==\"subtraction\"):\n",
    "    print(\"{Number1} - {Number2} = {output}\".format(Number1=num1,Number2=num2,output=subtract(num1,num2)))\n",
    "    \n",
    "elif (operator==\"multiplication\"):\n",
    "    print(\"{Number1} x {Number2} = {output}\".format(Number1=num1,Number2=num2,output=multiply(num1,num2)))\n",
    "    \n",
    "elif (operator==\"division\"):\n",
    "    print(\"{Number1} / {Number2} = {output}\".format(Number1=num1,Number2=num2,output=divide(num1,num2)))\n",
    "    \n",
    "else:\n",
    "    print(\"Invalid input!\")"
   ]
  },
  {
   "cell_type": "code",
   "execution_count": null,
   "id": "fc438d40",
   "metadata": {},
   "outputs": [],
   "source": []
  }
 ],
 "metadata": {
  "kernelspec": {
   "display_name": "Python 3",
   "language": "python",
   "name": "python3"
  },
  "language_info": {
   "codemirror_mode": {
    "name": "ipython",
    "version": 3
   },
   "file_extension": ".py",
   "mimetype": "text/x-python",
   "name": "python",
   "nbconvert_exporter": "python",
   "pygments_lexer": "ipython3",
   "version": "3.8.8"
  }
 },
 "nbformat": 4,
 "nbformat_minor": 5
}
