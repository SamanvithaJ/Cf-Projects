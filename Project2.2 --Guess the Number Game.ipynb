{
 "cells": [
  {
   "cell_type": "markdown",
   "id": "697b642a",
   "metadata": {},
   "source": [
    "# Guess the number game \n",
    "To check whether the Player2 can guess the number Player1 has entered, in 5 chances"
   ]
  },
  {
   "cell_type": "code",
   "execution_count": 3,
   "id": "4872e568",
   "metadata": {},
   "outputs": [
    {
     "name": "stdout",
     "output_type": "stream",
     "text": [
      "Enter the secret number: 22\n",
      "Guess the secret number: 12\n",
      "You guessed it too low!\n",
      "\n",
      "Guess the secret number: 31\n",
      "You guessed it too high!\n",
      "\n",
      "Guess the secret number: 44\n",
      "You guessed it too high!\n",
      "\n",
      "Guess the secret number: 22\n",
      "You guessed it correct! It's 22\n",
      "\n"
     ]
    }
   ],
   "source": [
    "secretNum=int(input(\"Enter the secret number: \")) #Player1 to enter the number of his choice (Preferably less than 10 or otherwise)\n",
    "guessCount=0\n",
    "\n",
    "while(guessCount<5):\n",
    "    i=int(input(\"Guess the secret number: \")) #Player2 to guess the number \n",
    "    if(i<secretNum):\n",
    "        print(\"You guessed it too low!\\n\")\n",
    "    elif(i==secretNum):\n",
    "        print(\"You guessed it correct! It's {number}.\\n\".format(number=secretNum))\n",
    "        break\n",
    "    else:\n",
    "        print(\"You guessed it too high!\\n\")\n",
    "    guessCount=guessCount+1\n"
   ]
  },
  {
   "cell_type": "code",
   "execution_count": null,
   "id": "cfddb3c4",
   "metadata": {},
   "outputs": [],
   "source": []
  }
 ],
 "metadata": {
  "kernelspec": {
   "display_name": "Python 3",
   "language": "python",
   "name": "python3"
  },
  "language_info": {
   "codemirror_mode": {
    "name": "ipython",
    "version": 3
   },
   "file_extension": ".py",
   "mimetype": "text/x-python",
   "name": "python",
   "nbconvert_exporter": "python",
   "pygments_lexer": "ipython3",
   "version": "3.8.8"
  }
 },
 "nbformat": 4,
 "nbformat_minor": 5
}
